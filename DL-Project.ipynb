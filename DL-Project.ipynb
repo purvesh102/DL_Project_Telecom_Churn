{
 "cells": [
  {
   "cell_type": "code",
   "execution_count": 83,
   "metadata": {
    "executionInfo": {
     "elapsed": 7369,
     "status": "ok",
     "timestamp": 1617078873565,
     "user": {
      "displayName": "Chinmay Lakhote",
      "photoUrl": "",
      "userId": "17795201635606502836"
     },
     "user_tz": -330
    },
    "id": "Tv8x1sgEc8gf"
   },
   "outputs": [],
   "source": [
    "import pandas as pd\n",
    "import numpy as np\n",
    "import seaborn as sns\n",
    "from scipy.stats import skew\n",
    "import matplotlib.pyplot as plt\n",
    "import tensorflow as tf"
   ]
  },
  {
   "cell_type": "code",
   "execution_count": 67,
   "metadata": {
    "executionInfo": {
     "elapsed": 8937,
     "status": "ok",
     "timestamp": 1617078875150,
     "user": {
      "displayName": "Chinmay Lakhote",
      "photoUrl": "",
      "userId": "17795201635606502836"
     },
     "user_tz": -330
    },
    "id": "OHvLRoL_JIGW"
   },
   "outputs": [],
   "source": [
    "#load dataset\n",
    "df=pd.read_csv(\"Telecom_Churn.csv\")"
   ]
  },
  {
   "cell_type": "code",
   "execution_count": 68,
   "metadata": {
    "colab": {
     "base_uri": "https://localhost:8080/",
     "height": 309
    },
    "executionInfo": {
     "elapsed": 8924,
     "status": "ok",
     "timestamp": 1617078875153,
     "user": {
      "displayName": "Chinmay Lakhote",
      "photoUrl": "",
      "userId": "17795201635606502836"
     },
     "user_tz": -330
    },
    "id": "FM1j00gKJw2x",
    "outputId": "779ab653-f9bd-4eae-82c2-0bf4b9cfe976"
   },
   "outputs": [
    {
     "data": {
      "text/html": [
       "<div>\n",
       "<style scoped>\n",
       "    .dataframe tbody tr th:only-of-type {\n",
       "        vertical-align: middle;\n",
       "    }\n",
       "\n",
       "    .dataframe tbody tr th {\n",
       "        vertical-align: top;\n",
       "    }\n",
       "\n",
       "    .dataframe thead th {\n",
       "        text-align: right;\n",
       "    }\n",
       "</style>\n",
       "<table border=\"1\" class=\"dataframe\">\n",
       "  <thead>\n",
       "    <tr style=\"text-align: right;\">\n",
       "      <th></th>\n",
       "      <th>customerID</th>\n",
       "      <th>gender</th>\n",
       "      <th>SeniorCitizen</th>\n",
       "      <th>Partner</th>\n",
       "      <th>Dependents</th>\n",
       "      <th>tenure</th>\n",
       "      <th>PhoneService</th>\n",
       "      <th>MultipleLines</th>\n",
       "      <th>InternetService</th>\n",
       "      <th>OnlineSecurity</th>\n",
       "      <th>...</th>\n",
       "      <th>DeviceProtection</th>\n",
       "      <th>TechSupport</th>\n",
       "      <th>StreamingTV</th>\n",
       "      <th>StreamingMovies</th>\n",
       "      <th>Contract</th>\n",
       "      <th>PaperlessBilling</th>\n",
       "      <th>PaymentMethod</th>\n",
       "      <th>MonthlyCharges</th>\n",
       "      <th>TotalCharges</th>\n",
       "      <th>Churn</th>\n",
       "    </tr>\n",
       "  </thead>\n",
       "  <tbody>\n",
       "    <tr>\n",
       "      <th>0</th>\n",
       "      <td>7590-VHVEG</td>\n",
       "      <td>Female</td>\n",
       "      <td>0</td>\n",
       "      <td>Yes</td>\n",
       "      <td>No</td>\n",
       "      <td>1</td>\n",
       "      <td>No</td>\n",
       "      <td>No phone service</td>\n",
       "      <td>DSL</td>\n",
       "      <td>No</td>\n",
       "      <td>...</td>\n",
       "      <td>No</td>\n",
       "      <td>No</td>\n",
       "      <td>No</td>\n",
       "      <td>No</td>\n",
       "      <td>Month-to-month</td>\n",
       "      <td>Yes</td>\n",
       "      <td>Electronic check</td>\n",
       "      <td>29.85</td>\n",
       "      <td>29.85</td>\n",
       "      <td>No</td>\n",
       "    </tr>\n",
       "    <tr>\n",
       "      <th>1</th>\n",
       "      <td>5575-GNVDE</td>\n",
       "      <td>Male</td>\n",
       "      <td>0</td>\n",
       "      <td>No</td>\n",
       "      <td>No</td>\n",
       "      <td>34</td>\n",
       "      <td>Yes</td>\n",
       "      <td>No</td>\n",
       "      <td>DSL</td>\n",
       "      <td>Yes</td>\n",
       "      <td>...</td>\n",
       "      <td>Yes</td>\n",
       "      <td>No</td>\n",
       "      <td>No</td>\n",
       "      <td>No</td>\n",
       "      <td>One year</td>\n",
       "      <td>No</td>\n",
       "      <td>Mailed check</td>\n",
       "      <td>56.95</td>\n",
       "      <td>1889.5</td>\n",
       "      <td>No</td>\n",
       "    </tr>\n",
       "    <tr>\n",
       "      <th>2</th>\n",
       "      <td>3668-QPYBK</td>\n",
       "      <td>Male</td>\n",
       "      <td>0</td>\n",
       "      <td>No</td>\n",
       "      <td>No</td>\n",
       "      <td>2</td>\n",
       "      <td>Yes</td>\n",
       "      <td>No</td>\n",
       "      <td>DSL</td>\n",
       "      <td>Yes</td>\n",
       "      <td>...</td>\n",
       "      <td>No</td>\n",
       "      <td>No</td>\n",
       "      <td>No</td>\n",
       "      <td>No</td>\n",
       "      <td>Month-to-month</td>\n",
       "      <td>Yes</td>\n",
       "      <td>Mailed check</td>\n",
       "      <td>53.85</td>\n",
       "      <td>108.15</td>\n",
       "      <td>Yes</td>\n",
       "    </tr>\n",
       "    <tr>\n",
       "      <th>3</th>\n",
       "      <td>7795-CFOCW</td>\n",
       "      <td>Male</td>\n",
       "      <td>0</td>\n",
       "      <td>No</td>\n",
       "      <td>No</td>\n",
       "      <td>45</td>\n",
       "      <td>No</td>\n",
       "      <td>No phone service</td>\n",
       "      <td>DSL</td>\n",
       "      <td>Yes</td>\n",
       "      <td>...</td>\n",
       "      <td>Yes</td>\n",
       "      <td>Yes</td>\n",
       "      <td>No</td>\n",
       "      <td>No</td>\n",
       "      <td>One year</td>\n",
       "      <td>No</td>\n",
       "      <td>Bank transfer (automatic)</td>\n",
       "      <td>42.30</td>\n",
       "      <td>1840.75</td>\n",
       "      <td>No</td>\n",
       "    </tr>\n",
       "    <tr>\n",
       "      <th>4</th>\n",
       "      <td>9237-HQITU</td>\n",
       "      <td>Female</td>\n",
       "      <td>0</td>\n",
       "      <td>No</td>\n",
       "      <td>No</td>\n",
       "      <td>2</td>\n",
       "      <td>Yes</td>\n",
       "      <td>No</td>\n",
       "      <td>Fiber optic</td>\n",
       "      <td>No</td>\n",
       "      <td>...</td>\n",
       "      <td>No</td>\n",
       "      <td>No</td>\n",
       "      <td>No</td>\n",
       "      <td>No</td>\n",
       "      <td>Month-to-month</td>\n",
       "      <td>Yes</td>\n",
       "      <td>Electronic check</td>\n",
       "      <td>70.70</td>\n",
       "      <td>151.65</td>\n",
       "      <td>Yes</td>\n",
       "    </tr>\n",
       "  </tbody>\n",
       "</table>\n",
       "<p>5 rows × 21 columns</p>\n",
       "</div>"
      ],
      "text/plain": [
       "   customerID  gender  SeniorCitizen Partner Dependents  tenure PhoneService  \\\n",
       "0  7590-VHVEG  Female              0     Yes         No       1           No   \n",
       "1  5575-GNVDE    Male              0      No         No      34          Yes   \n",
       "2  3668-QPYBK    Male              0      No         No       2          Yes   \n",
       "3  7795-CFOCW    Male              0      No         No      45           No   \n",
       "4  9237-HQITU  Female              0      No         No       2          Yes   \n",
       "\n",
       "      MultipleLines InternetService OnlineSecurity  ... DeviceProtection  \\\n",
       "0  No phone service             DSL             No  ...               No   \n",
       "1                No             DSL            Yes  ...              Yes   \n",
       "2                No             DSL            Yes  ...               No   \n",
       "3  No phone service             DSL            Yes  ...              Yes   \n",
       "4                No     Fiber optic             No  ...               No   \n",
       "\n",
       "  TechSupport StreamingTV StreamingMovies        Contract PaperlessBilling  \\\n",
       "0          No          No              No  Month-to-month              Yes   \n",
       "1          No          No              No        One year               No   \n",
       "2          No          No              No  Month-to-month              Yes   \n",
       "3         Yes          No              No        One year               No   \n",
       "4          No          No              No  Month-to-month              Yes   \n",
       "\n",
       "               PaymentMethod MonthlyCharges  TotalCharges Churn  \n",
       "0           Electronic check          29.85         29.85    No  \n",
       "1               Mailed check          56.95        1889.5    No  \n",
       "2               Mailed check          53.85        108.15   Yes  \n",
       "3  Bank transfer (automatic)          42.30       1840.75    No  \n",
       "4           Electronic check          70.70        151.65   Yes  \n",
       "\n",
       "[5 rows x 21 columns]"
      ]
     },
     "execution_count": 68,
     "metadata": {},
     "output_type": "execute_result"
    }
   ],
   "source": [
    "#first 5 records\n",
    "df.head()"
   ]
  },
  {
   "cell_type": "code",
   "execution_count": 4,
   "metadata": {
    "colab": {
     "base_uri": "https://localhost:8080/"
    },
    "executionInfo": {
     "elapsed": 8904,
     "status": "ok",
     "timestamp": 1617078875155,
     "user": {
      "displayName": "Chinmay Lakhote",
      "photoUrl": "",
      "userId": "17795201635606502836"
     },
     "user_tz": -330
    },
    "id": "fnyOHUjXJ31B",
    "outputId": "52078d26-5d64-441b-e2bf-421d58a390e7"
   },
   "outputs": [
    {
     "data": {
      "text/plain": [
       "customerID          0\n",
       "gender              0\n",
       "SeniorCitizen       0\n",
       "Partner             0\n",
       "Dependents          0\n",
       "tenure              0\n",
       "PhoneService        0\n",
       "MultipleLines       0\n",
       "InternetService     0\n",
       "OnlineSecurity      0\n",
       "OnlineBackup        0\n",
       "DeviceProtection    0\n",
       "TechSupport         0\n",
       "StreamingTV         0\n",
       "StreamingMovies     0\n",
       "Contract            0\n",
       "PaperlessBilling    0\n",
       "PaymentMethod       0\n",
       "MonthlyCharges      0\n",
       "TotalCharges        0\n",
       "Churn               0\n",
       "dtype: int64"
      ]
     },
     "execution_count": 4,
     "metadata": {
      "tags": []
     },
     "output_type": "execute_result"
    }
   ],
   "source": [
    "#check null values in our dataset\n",
    "df.isnull().sum()"
   ]
  },
  {
   "cell_type": "code",
   "execution_count": 102,
   "metadata": {
    "colab": {
     "base_uri": "https://localhost:8080/"
    },
    "executionInfo": {
     "elapsed": 8888,
     "status": "ok",
     "timestamp": 1617078875156,
     "user": {
      "displayName": "Chinmay Lakhote",
      "photoUrl": "",
      "userId": "17795201635606502836"
     },
     "user_tz": -330
    },
    "id": "_It1rvPDJ__0",
    "outputId": "89c6370c-55eb-470e-be6f-d64e2e9f4750"
   },
   "outputs": [
    {
     "name": "stdout",
     "output_type": "stream",
     "text": [
      "<class 'pandas.core.frame.DataFrame'>\n",
      "RangeIndex: 7043 entries, 0 to 7042\n",
      "Data columns (total 21 columns):\n",
      " #   Column            Non-Null Count  Dtype  \n",
      "---  ------            --------------  -----  \n",
      " 0   customerID        7043 non-null   object \n",
      " 1   gender            7043 non-null   object \n",
      " 2   SeniorCitizen     7043 non-null   int64  \n",
      " 3   Partner           7043 non-null   object \n",
      " 4   Dependents        7043 non-null   object \n",
      " 5   tenure            7043 non-null   int64  \n",
      " 6   PhoneService      7043 non-null   object \n",
      " 7   MultipleLines     7043 non-null   object \n",
      " 8   InternetService   7043 non-null   object \n",
      " 9   OnlineSecurity    7043 non-null   object \n",
      " 10  OnlineBackup      7043 non-null   object \n",
      " 11  DeviceProtection  7043 non-null   object \n",
      " 12  TechSupport       7043 non-null   object \n",
      " 13  StreamingTV       7043 non-null   object \n",
      " 14  StreamingMovies   7043 non-null   object \n",
      " 15  Contract          7043 non-null   object \n",
      " 16  PaperlessBilling  7043 non-null   object \n",
      " 17  PaymentMethod     7043 non-null   object \n",
      " 18  MonthlyCharges    7043 non-null   float64\n",
      " 19  TotalCharges      7043 non-null   object \n",
      " 20  Churn             7043 non-null   object \n",
      "dtypes: float64(1), int64(2), object(18)\n",
      "memory usage: 1.1+ MB\n"
     ]
    }
   ],
   "source": [
    "df.info()"
   ]
  },
  {
   "cell_type": "code",
   "execution_count": 103,
   "metadata": {
    "colab": {
     "base_uri": "https://localhost:8080/"
    },
    "executionInfo": {
     "elapsed": 9693,
     "status": "ok",
     "timestamp": 1617078875979,
     "user": {
      "displayName": "Chinmay Lakhote",
      "photoUrl": "",
      "userId": "17795201635606502836"
     },
     "user_tz": -330
    },
    "id": "lL8H1YD4KLAL",
    "outputId": "9eb5943a-74ee-424b-b9e2-d09d34d4b3df"
   },
   "outputs": [
    {
     "data": {
      "text/plain": [
       "          11\n",
       "20.2      11\n",
       "19.75      9\n",
       "20.05      8\n",
       "19.9       8\n",
       "          ..\n",
       "6849.4     1\n",
       "692.35     1\n",
       "130.15     1\n",
       "3211.9     1\n",
       "6844.5     1\n",
       "Name: TotalCharges, Length: 6531, dtype: int64"
      ]
     },
     "execution_count": 103,
     "metadata": {},
     "output_type": "execute_result"
    }
   ],
   "source": [
    "df[\"TotalCharges\"].value_counts()"
   ]
  },
  {
   "cell_type": "code",
   "execution_count": 104,
   "metadata": {
    "executionInfo": {
     "elapsed": 9682,
     "status": "ok",
     "timestamp": 1617078875982,
     "user": {
      "displayName": "Chinmay Lakhote",
      "photoUrl": "",
      "userId": "17795201635606502836"
     },
     "user_tz": -330
    },
    "id": "VUGg2Od8KRDf"
   },
   "outputs": [],
   "source": [
    "#replace space with null values in TotalCharges column  permanently\n",
    "df[\"TotalCharges\"].replace(\" \",np.nan,inplace=True)  "
   ]
  },
  {
   "cell_type": "code",
   "execution_count": 105,
   "metadata": {
    "colab": {
     "base_uri": "https://localhost:8080/"
    },
    "executionInfo": {
     "elapsed": 9671,
     "status": "ok",
     "timestamp": 1617078875985,
     "user": {
      "displayName": "Chinmay Lakhote",
      "photoUrl": "",
      "userId": "17795201635606502836"
     },
     "user_tz": -330
    },
    "id": "LOFg_WzRKdwh",
    "outputId": "121de642-6120-474f-9ed1-c8e9917d7184"
   },
   "outputs": [
    {
     "data": {
      "text/plain": [
       "customerID           0\n",
       "gender               0\n",
       "SeniorCitizen        0\n",
       "Partner              0\n",
       "Dependents           0\n",
       "tenure               0\n",
       "PhoneService         0\n",
       "MultipleLines        0\n",
       "InternetService      0\n",
       "OnlineSecurity       0\n",
       "OnlineBackup         0\n",
       "DeviceProtection     0\n",
       "TechSupport          0\n",
       "StreamingTV          0\n",
       "StreamingMovies      0\n",
       "Contract             0\n",
       "PaperlessBilling     0\n",
       "PaymentMethod        0\n",
       "MonthlyCharges       0\n",
       "TotalCharges        11\n",
       "Churn                0\n",
       "dtype: int64"
      ]
     },
     "execution_count": 105,
     "metadata": {},
     "output_type": "execute_result"
    }
   ],
   "source": [
    "df.isnull().sum() #check null values"
   ]
  },
  {
   "cell_type": "code",
   "execution_count": 106,
   "metadata": {
    "executionInfo": {
     "elapsed": 9660,
     "status": "ok",
     "timestamp": 1617078875987,
     "user": {
      "displayName": "Chinmay Lakhote",
      "photoUrl": "",
      "userId": "17795201635606502836"
     },
     "user_tz": -330
    },
    "id": "IWQH4NVuKkma"
   },
   "outputs": [],
   "source": [
    "#to change the datatype of TotalCharges column in float \n",
    "df[\"TotalCharges\"]=df[\"TotalCharges\"].astype(\"float\")"
   ]
  },
  {
   "cell_type": "code",
   "execution_count": 107,
   "metadata": {
    "colab": {
     "base_uri": "https://localhost:8080/"
    },
    "executionInfo": {
     "elapsed": 9647,
     "status": "ok",
     "timestamp": 1617078875989,
     "user": {
      "displayName": "Chinmay Lakhote",
      "photoUrl": "",
      "userId": "17795201635606502836"
     },
     "user_tz": -330
    },
    "id": "8F0-VoMTKpQj",
    "outputId": "621db5af-e41b-443b-c701-97a5e0c144fc"
   },
   "outputs": [
    {
     "data": {
      "text/plain": [
       "0.1561834445548772"
      ]
     },
     "execution_count": 107,
     "metadata": {},
     "output_type": "execute_result"
    }
   ],
   "source": [
    "#check % of null values of TotalCharges  column\n",
    "df[\"TotalCharges\"].isnull().sum()/df.shape[0]*100"
   ]
  },
  {
   "cell_type": "code",
   "execution_count": 108,
   "metadata": {
    "executionInfo": {
     "elapsed": 9635,
     "status": "ok",
     "timestamp": 1617078875991,
     "user": {
      "displayName": "Chinmay Lakhote",
      "photoUrl": "",
      "userId": "17795201635606502836"
     },
     "user_tz": -330
    },
    "id": "lQ0jhjFoKxBv"
   },
   "outputs": [],
   "source": [
    "#fill of null values of TotalCharges column with help of mean or median\n",
    "#permanently \n",
    "df['TotalCharges'].fillna(df['TotalCharges'].mean(),inplace=True)"
   ]
  },
  {
   "cell_type": "code",
   "execution_count": 109,
   "metadata": {},
   "outputs": [
    {
     "data": {
      "text/plain": [
       "<AxesSubplot:>"
      ]
     },
     "execution_count": 109,
     "metadata": {},
     "output_type": "execute_result"
    },
    {
     "data": {
      "image/png": "[encoded data removed]",
      "text/plain": [
       "<Figure size 360x360 with 2 Axes>"
      ]
     },
     "metadata": {
      "needs_background": "light"
     },
     "output_type": "display_data"
    }
   ],
   "source": [
    "plt.figure(figsize=(5,5))\n",
    "sns.heatmap(df.corr(), annot=True)"
   ]
  },
  {
   "cell_type": "code",
   "execution_count": 110,
   "metadata": {},
   "outputs": [
    {
     "data": {
      "text/html": [
       "<style type=\"text/css\">\n",
       "#T_8b9e5_row0_col0, #T_8b9e5_row1_col1, #T_8b9e5_row2_col2, #T_8b9e5_row3_col3 {\n",
       "  background-color: #023858;\n",
       "  color: #f1f1f1;\n",
       "}\n",
       "#T_8b9e5_row0_col1, #T_8b9e5_row0_col2, #T_8b9e5_row0_col3, #T_8b9e5_row1_col0 {\n",
       "  background-color: #fff7fb;\n",
       "  color: #000000;\n",
       "}\n",
       "#T_8b9e5_row1_col2 {\n",
       "  background-color: #faf2f8;\n",
       "  color: #000000;\n",
       "}\n",
       "#T_8b9e5_row1_col3 {\n",
       "  background-color: #0566a0;\n",
       "  color: #f1f1f1;\n",
       "}\n",
       "#T_8b9e5_row2_col0 {\n",
       "  background-color: #d9d8ea;\n",
       "  color: #000000;\n",
       "}\n",
       "#T_8b9e5_row2_col1 {\n",
       "  background-color: #d3d4e7;\n",
       "  color: #000000;\n",
       "}\n",
       "#T_8b9e5_row2_col3 {\n",
       "  background-color: #3d93c2;\n",
       "  color: #f1f1f1;\n",
       "}\n",
       "#T_8b9e5_row3_col0 {\n",
       "  background-color: #f2ecf5;\n",
       "  color: #000000;\n",
       "}\n",
       "#T_8b9e5_row3_col1 {\n",
       "  background-color: #04639b;\n",
       "  color: #f1f1f1;\n",
       "}\n",
       "#T_8b9e5_row3_col2 {\n",
       "  background-color: #5a9ec9;\n",
       "  color: #f1f1f1;\n",
       "}\n",
       "</style>\n",
       "<table id=\"T_8b9e5_\">\n",
       "  <thead>\n",
       "    <tr>\n",
       "      <th class=\"blank level0\" >&nbsp;</th>\n",
       "      <th class=\"col_heading level0 col0\" >SeniorCitizen</th>\n",
       "      <th class=\"col_heading level0 col1\" >tenure</th>\n",
       "      <th class=\"col_heading level0 col2\" >MonthlyCharges</th>\n",
       "      <th class=\"col_heading level0 col3\" >TotalCharges</th>\n",
       "    </tr>\n",
       "  </thead>\n",
       "  <tbody>\n",
       "    <tr>\n",
       "      <th id=\"T_8b9e5_level0_row0\" class=\"row_heading level0 row0\" >SeniorCitizen</th>\n",
       "      <td id=\"T_8b9e5_row0_col0\" class=\"data row0 col0\" >1.000000</td>\n",
       "      <td id=\"T_8b9e5_row0_col1\" class=\"data row0 col1\" >0.016567</td>\n",
       "      <td id=\"T_8b9e5_row0_col2\" class=\"data row0 col2\" >0.220173</td>\n",
       "      <td id=\"T_8b9e5_row0_col3\" class=\"data row0 col3\" >0.102395</td>\n",
       "    </tr>\n",
       "    <tr>\n",
       "      <th id=\"T_8b9e5_level0_row1\" class=\"row_heading level0 row1\" >tenure</th>\n",
       "      <td id=\"T_8b9e5_row1_col0\" class=\"data row1 col0\" >0.016567</td>\n",
       "      <td id=\"T_8b9e5_row1_col1\" class=\"data row1 col1\" >1.000000</td>\n",
       "      <td id=\"T_8b9e5_row1_col2\" class=\"data row1 col2\" >0.247900</td>\n",
       "      <td id=\"T_8b9e5_row1_col3\" class=\"data row1 col3\" >0.824757</td>\n",
       "    </tr>\n",
       "    <tr>\n",
       "      <th id=\"T_8b9e5_level0_row2\" class=\"row_heading level0 row2\" >MonthlyCharges</th>\n",
       "      <td id=\"T_8b9e5_row2_col0\" class=\"data row2 col0\" >0.220173</td>\n",
       "      <td id=\"T_8b9e5_row2_col1\" class=\"data row2 col1\" >0.247900</td>\n",
       "      <td id=\"T_8b9e5_row2_col2\" class=\"data row2 col2\" >1.000000</td>\n",
       "      <td id=\"T_8b9e5_row2_col3\" class=\"data row2 col3\" >0.650468</td>\n",
       "    </tr>\n",
       "    <tr>\n",
       "      <th id=\"T_8b9e5_level0_row3\" class=\"row_heading level0 row3\" >TotalCharges</th>\n",
       "      <td id=\"T_8b9e5_row3_col0\" class=\"data row3 col0\" >0.102395</td>\n",
       "      <td id=\"T_8b9e5_row3_col1\" class=\"data row3 col1\" >0.824757</td>\n",
       "      <td id=\"T_8b9e5_row3_col2\" class=\"data row3 col2\" >0.650468</td>\n",
       "      <td id=\"T_8b9e5_row3_col3\" class=\"data row3 col3\" >1.000000</td>\n",
       "    </tr>\n",
       "  </tbody>\n",
       "</table>\n"
      ],
      "text/plain": [
       "<pandas.io.formats.style.Styler at 0x213434f15e0>"
      ]
     },
     "execution_count": 110,
     "metadata": {},
     "output_type": "execute_result"
    }
   ],
   "source": [
    "df.corr().style.background_gradient()"
   ]
  },
  {
   "cell_type": "code",
   "execution_count": 111,
   "metadata": {},
   "outputs": [
    {
     "data": {
      "text/plain": [
       "<seaborn.axisgrid.PairGrid at 0x21340a47280>"
      ]
     },
     "execution_count": 111,
     "metadata": {},
     "output_type": "execute_result"
    },
    {
     "data": {
      "image/png": "[encoded data removed]",
      "text/plain": [
       "<Figure size 720x720 with 20 Axes>"
      ]
     },
     "metadata": {
      "needs_background": "light"
     },
     "output_type": "display_data"
    }
   ],
   "source": [
    "sns.pairplot(data=df)"
   ]
  },
  {
   "cell_type": "code",
   "execution_count": 112,
   "metadata": {
    "colab": {
     "base_uri": "https://localhost:8080/",
     "height": 309
    },
    "executionInfo": {
     "elapsed": 9605,
     "status": "ok",
     "timestamp": 1617078875997,
     "user": {
      "displayName": "Chinmay Lakhote",
      "photoUrl": "",
      "userId": "17795201635606502836"
     },
     "user_tz": -330
    },
    "id": "1at6SFtWK4UW",
    "outputId": "ed640d8c-596e-43ef-b097-8f2154cf8b66"
   },
   "outputs": [
    {
     "data": {
      "text/html": [
       "<div>\n",
       "<style scoped>\n",
       "    .dataframe tbody tr th:only-of-type {\n",
       "        vertical-align: middle;\n",
       "    }\n",
       "\n",
       "    .dataframe tbody tr th {\n",
       "        vertical-align: top;\n",
       "    }\n",
       "\n",
       "    .dataframe thead th {\n",
       "        text-align: right;\n",
       "    }\n",
       "</style>\n",
       "<table border=\"1\" class=\"dataframe\">\n",
       "  <thead>\n",
       "    <tr style=\"text-align: right;\">\n",
       "      <th></th>\n",
       "      <th>customerID</th>\n",
       "      <th>gender</th>\n",
       "      <th>SeniorCitizen</th>\n",
       "      <th>Partner</th>\n",
       "      <th>Dependents</th>\n",
       "      <th>tenure</th>\n",
       "      <th>PhoneService</th>\n",
       "      <th>MultipleLines</th>\n",
       "      <th>InternetService</th>\n",
       "      <th>OnlineSecurity</th>\n",
       "      <th>...</th>\n",
       "      <th>DeviceProtection</th>\n",
       "      <th>TechSupport</th>\n",
       "      <th>StreamingTV</th>\n",
       "      <th>StreamingMovies</th>\n",
       "      <th>Contract</th>\n",
       "      <th>PaperlessBilling</th>\n",
       "      <th>PaymentMethod</th>\n",
       "      <th>MonthlyCharges</th>\n",
       "      <th>TotalCharges</th>\n",
       "      <th>Churn</th>\n",
       "    </tr>\n",
       "  </thead>\n",
       "  <tbody>\n",
       "    <tr>\n",
       "      <th>0</th>\n",
       "      <td>7590-VHVEG</td>\n",
       "      <td>Female</td>\n",
       "      <td>0</td>\n",
       "      <td>Yes</td>\n",
       "      <td>No</td>\n",
       "      <td>1</td>\n",
       "      <td>No</td>\n",
       "      <td>No phone service</td>\n",
       "      <td>DSL</td>\n",
       "      <td>No</td>\n",
       "      <td>...</td>\n",
       "      <td>No</td>\n",
       "      <td>No</td>\n",
       "      <td>No</td>\n",
       "      <td>No</td>\n",
       "      <td>Month-to-month</td>\n",
       "      <td>Yes</td>\n",
       "      <td>Electronic check</td>\n",
       "      <td>29.85</td>\n",
       "      <td>29.85</td>\n",
       "      <td>No</td>\n",
       "    </tr>\n",
       "    <tr>\n",
       "      <th>1</th>\n",
       "      <td>5575-GNVDE</td>\n",
       "      <td>Male</td>\n",
       "      <td>0</td>\n",
       "      <td>No</td>\n",
       "      <td>No</td>\n",
       "      <td>34</td>\n",
       "      <td>Yes</td>\n",
       "      <td>No</td>\n",
       "      <td>DSL</td>\n",
       "      <td>Yes</td>\n",
       "      <td>...</td>\n",
       "      <td>Yes</td>\n",
       "      <td>No</td>\n",
       "      <td>No</td>\n",
       "      <td>No</td>\n",
       "      <td>One year</td>\n",
       "      <td>No</td>\n",
       "      <td>Mailed check</td>\n",
       "      <td>56.95</td>\n",
       "      <td>1889.50</td>\n",
       "      <td>No</td>\n",
       "    </tr>\n",
       "    <tr>\n",
       "      <th>2</th>\n",
       "      <td>3668-QPYBK</td>\n",
       "      <td>Male</td>\n",
       "      <td>0</td>\n",
       "      <td>No</td>\n",
       "      <td>No</td>\n",
       "      <td>2</td>\n",
       "      <td>Yes</td>\n",
       "      <td>No</td>\n",
       "      <td>DSL</td>\n",
       "      <td>Yes</td>\n",
       "      <td>...</td>\n",
       "      <td>No</td>\n",
       "      <td>No</td>\n",
       "      <td>No</td>\n",
       "      <td>No</td>\n",
       "      <td>Month-to-month</td>\n",
       "      <td>Yes</td>\n",
       "      <td>Mailed check</td>\n",
       "      <td>53.85</td>\n",
       "      <td>108.15</td>\n",
       "      <td>Yes</td>\n",
       "    </tr>\n",
       "    <tr>\n",
       "      <th>3</th>\n",
       "      <td>7795-CFOCW</td>\n",
       "      <td>Male</td>\n",
       "      <td>0</td>\n",
       "      <td>No</td>\n",
       "      <td>No</td>\n",
       "      <td>45</td>\n",
       "      <td>No</td>\n",
       "      <td>No phone service</td>\n",
       "      <td>DSL</td>\n",
       "      <td>Yes</td>\n",
       "      <td>...</td>\n",
       "      <td>Yes</td>\n",
       "      <td>Yes</td>\n",
       "      <td>No</td>\n",
       "      <td>No</td>\n",
       "      <td>One year</td>\n",
       "      <td>No</td>\n",
       "      <td>Bank transfer (automatic)</td>\n",
       "      <td>42.30</td>\n",
       "      <td>1840.75</td>\n",
       "      <td>No</td>\n",
       "    </tr>\n",
       "    <tr>\n",
       "      <th>4</th>\n",
       "      <td>9237-HQITU</td>\n",
       "      <td>Female</td>\n",
       "      <td>0</td>\n",
       "      <td>No</td>\n",
       "      <td>No</td>\n",
       "      <td>2</td>\n",
       "      <td>Yes</td>\n",
       "      <td>No</td>\n",
       "      <td>Fiber optic</td>\n",
       "      <td>No</td>\n",
       "      <td>...</td>\n",
       "      <td>No</td>\n",
       "      <td>No</td>\n",
       "      <td>No</td>\n",
       "      <td>No</td>\n",
       "      <td>Month-to-month</td>\n",
       "      <td>Yes</td>\n",
       "      <td>Electronic check</td>\n",
       "      <td>70.70</td>\n",
       "      <td>151.65</td>\n",
       "      <td>Yes</td>\n",
       "    </tr>\n",
       "  </tbody>\n",
       "</table>\n",
       "<p>5 rows × 21 columns</p>\n",
       "</div>"
      ],
      "text/plain": [
       "   customerID  gender  SeniorCitizen Partner Dependents  tenure PhoneService  \\\n",
       "0  7590-VHVEG  Female              0     Yes         No       1           No   \n",
       "1  5575-GNVDE    Male              0      No         No      34          Yes   \n",
       "2  3668-QPYBK    Male              0      No         No       2          Yes   \n",
       "3  7795-CFOCW    Male              0      No         No      45           No   \n",
       "4  9237-HQITU  Female              0      No         No       2          Yes   \n",
       "\n",
       "      MultipleLines InternetService OnlineSecurity  ... DeviceProtection  \\\n",
       "0  No phone service             DSL             No  ...               No   \n",
       "1                No             DSL            Yes  ...              Yes   \n",
       "2                No             DSL            Yes  ...               No   \n",
       "3  No phone service             DSL            Yes  ...              Yes   \n",
       "4                No     Fiber optic             No  ...               No   \n",
       "\n",
       "  TechSupport StreamingTV StreamingMovies        Contract PaperlessBilling  \\\n",
       "0          No          No              No  Month-to-month              Yes   \n",
       "1          No          No              No        One year               No   \n",
       "2          No          No              No  Month-to-month              Yes   \n",
       "3         Yes          No              No        One year               No   \n",
       "4          No          No              No  Month-to-month              Yes   \n",
       "\n",
       "               PaymentMethod MonthlyCharges  TotalCharges  Churn  \n",
       "0           Electronic check          29.85         29.85     No  \n",
       "1               Mailed check          56.95       1889.50     No  \n",
       "2               Mailed check          53.85        108.15    Yes  \n",
       "3  Bank transfer (automatic)          42.30       1840.75     No  \n",
       "4           Electronic check          70.70        151.65    Yes  \n",
       "\n",
       "[5 rows x 21 columns]"
      ]
     },
     "execution_count": 112,
     "metadata": {},
     "output_type": "execute_result"
    }
   ],
   "source": [
    "df.head()"
   ]
  },
  {
   "cell_type": "code",
   "execution_count": 113,
   "metadata": {
    "executionInfo": {
     "elapsed": 9591,
     "status": "ok",
     "timestamp": 1617078876000,
     "user": {
      "displayName": "Chinmay Lakhote",
      "photoUrl": "",
      "userId": "17795201635606502836"
     },
     "user_tz": -330
    },
    "id": "8u8LPlhNK7xo"
   },
   "outputs": [],
   "source": [
    "#Remove unwanted column permanent\n",
    "df.drop(\"customerID\",axis=1,inplace=True)"
   ]
  },
  {
   "cell_type": "code",
   "execution_count": 114,
   "metadata": {
    "executionInfo": {
     "elapsed": 9585,
     "status": "ok",
     "timestamp": 1617078876005,
     "user": {
      "displayName": "Chinmay Lakhote",
      "photoUrl": "",
      "userId": "17795201635606502836"
     },
     "user_tz": -330
    },
    "id": "EHbUT_awK9-X"
   },
   "outputs": [],
   "source": [
    "# separate all object features(columns) and numeric features (column)\n",
    "df_cat=df.select_dtypes('object')\n",
    "df_num=df.select_dtypes(['int64','float64'])"
   ]
  },
  {
   "cell_type": "code",
   "execution_count": 115,
   "metadata": {
    "colab": {
     "base_uri": "https://localhost:8080/"
    },
    "executionInfo": {
     "elapsed": 9570,
     "status": "ok",
     "timestamp": 1617078876008,
     "user": {
      "displayName": "Chinmay Lakhote",
      "photoUrl": "",
      "userId": "17795201635606502836"
     },
     "user_tz": -330
    },
    "id": "9pq2K293LFeT",
    "outputId": "773bd849-fafb-4d4a-eeeb-1b9666acecdc"
   },
   "outputs": [
    {
     "name": "stderr",
     "output_type": "stream",
     "text": [
      "C:\\Users\\Purvesh\\AppData\\Local\\Temp/ipykernel_11280/234982898.py:5: SettingWithCopyWarning: \n",
      "A value is trying to be set on a copy of a slice from a DataFrame.\n",
      "Try using .loc[row_indexer,col_indexer] = value instead\n",
      "\n",
      "See the caveats in the documentation: https://pandas.pydata.org/pandas-docs/stable/user_guide/indexing.html#returning-a-view-versus-a-copy\n",
      "  df_cat[i]=le.fit_transform(df_cat[i])\n"
     ]
    }
   ],
   "source": [
    "from sklearn.preprocessing import LabelEncoder\n",
    "#create the object of LabelEncoder class le\n",
    "le=LabelEncoder()\n",
    "for i in df_cat:\n",
    "    df_cat[i]=le.fit_transform(df_cat[i])"
   ]
  },
  {
   "cell_type": "code",
   "execution_count": 116,
   "metadata": {
    "colab": {
     "base_uri": "https://localhost:8080/",
     "height": 224
    },
    "executionInfo": {
     "elapsed": 9552,
     "status": "ok",
     "timestamp": 1617078876011,
     "user": {
      "displayName": "Chinmay Lakhote",
      "photoUrl": "",
      "userId": "17795201635606502836"
     },
     "user_tz": -330
    },
    "id": "vvS9glROLKcu",
    "outputId": "bcc1a45f-3093-4c46-9240-05ad53da3fb6"
   },
   "outputs": [
    {
     "data": {
      "text/html": [
       "<div>\n",
       "<style scoped>\n",
       "    .dataframe tbody tr th:only-of-type {\n",
       "        vertical-align: middle;\n",
       "    }\n",
       "\n",
       "    .dataframe tbody tr th {\n",
       "        vertical-align: top;\n",
       "    }\n",
       "\n",
       "    .dataframe thead th {\n",
       "        text-align: right;\n",
       "    }\n",
       "</style>\n",
       "<table border=\"1\" class=\"dataframe\">\n",
       "  <thead>\n",
       "    <tr style=\"text-align: right;\">\n",
       "      <th></th>\n",
       "      <th>gender</th>\n",
       "      <th>Partner</th>\n",
       "      <th>Dependents</th>\n",
       "      <th>PhoneService</th>\n",
       "      <th>MultipleLines</th>\n",
       "      <th>InternetService</th>\n",
       "      <th>OnlineSecurity</th>\n",
       "      <th>OnlineBackup</th>\n",
       "      <th>DeviceProtection</th>\n",
       "      <th>TechSupport</th>\n",
       "      <th>StreamingTV</th>\n",
       "      <th>StreamingMovies</th>\n",
       "      <th>Contract</th>\n",
       "      <th>PaperlessBilling</th>\n",
       "      <th>PaymentMethod</th>\n",
       "      <th>Churn</th>\n",
       "    </tr>\n",
       "  </thead>\n",
       "  <tbody>\n",
       "    <tr>\n",
       "      <th>0</th>\n",
       "      <td>0</td>\n",
       "      <td>1</td>\n",
       "      <td>0</td>\n",
       "      <td>0</td>\n",
       "      <td>1</td>\n",
       "      <td>0</td>\n",
       "      <td>0</td>\n",
       "      <td>2</td>\n",
       "      <td>0</td>\n",
       "      <td>0</td>\n",
       "      <td>0</td>\n",
       "      <td>0</td>\n",
       "      <td>0</td>\n",
       "      <td>1</td>\n",
       "      <td>2</td>\n",
       "      <td>0</td>\n",
       "    </tr>\n",
       "    <tr>\n",
       "      <th>1</th>\n",
       "      <td>1</td>\n",
       "      <td>0</td>\n",
       "      <td>0</td>\n",
       "      <td>1</td>\n",
       "      <td>0</td>\n",
       "      <td>0</td>\n",
       "      <td>2</td>\n",
       "      <td>0</td>\n",
       "      <td>2</td>\n",
       "      <td>0</td>\n",
       "      <td>0</td>\n",
       "      <td>0</td>\n",
       "      <td>1</td>\n",
       "      <td>0</td>\n",
       "      <td>3</td>\n",
       "      <td>0</td>\n",
       "    </tr>\n",
       "    <tr>\n",
       "      <th>2</th>\n",
       "      <td>1</td>\n",
       "      <td>0</td>\n",
       "      <td>0</td>\n",
       "      <td>1</td>\n",
       "      <td>0</td>\n",
       "      <td>0</td>\n",
       "      <td>2</td>\n",
       "      <td>2</td>\n",
       "      <td>0</td>\n",
       "      <td>0</td>\n",
       "      <td>0</td>\n",
       "      <td>0</td>\n",
       "      <td>0</td>\n",
       "      <td>1</td>\n",
       "      <td>3</td>\n",
       "      <td>1</td>\n",
       "    </tr>\n",
       "    <tr>\n",
       "      <th>3</th>\n",
       "      <td>1</td>\n",
       "      <td>0</td>\n",
       "      <td>0</td>\n",
       "      <td>0</td>\n",
       "      <td>1</td>\n",
       "      <td>0</td>\n",
       "      <td>2</td>\n",
       "      <td>0</td>\n",
       "      <td>2</td>\n",
       "      <td>2</td>\n",
       "      <td>0</td>\n",
       "      <td>0</td>\n",
       "      <td>1</td>\n",
       "      <td>0</td>\n",
       "      <td>0</td>\n",
       "      <td>0</td>\n",
       "    </tr>\n",
       "    <tr>\n",
       "      <th>4</th>\n",
       "      <td>0</td>\n",
       "      <td>0</td>\n",
       "      <td>0</td>\n",
       "      <td>1</td>\n",
       "      <td>0</td>\n",
       "      <td>1</td>\n",
       "      <td>0</td>\n",
       "      <td>0</td>\n",
       "      <td>0</td>\n",
       "      <td>0</td>\n",
       "      <td>0</td>\n",
       "      <td>0</td>\n",
       "      <td>0</td>\n",
       "      <td>1</td>\n",
       "      <td>2</td>\n",
       "      <td>1</td>\n",
       "    </tr>\n",
       "  </tbody>\n",
       "</table>\n",
       "</div>"
      ],
      "text/plain": [
       "   gender  Partner  Dependents  PhoneService  MultipleLines  InternetService  \\\n",
       "0       0        1           0             0              1                0   \n",
       "1       1        0           0             1              0                0   \n",
       "2       1        0           0             1              0                0   \n",
       "3       1        0           0             0              1                0   \n",
       "4       0        0           0             1              0                1   \n",
       "\n",
       "   OnlineSecurity  OnlineBackup  DeviceProtection  TechSupport  StreamingTV  \\\n",
       "0               0             2                 0            0            0   \n",
       "1               2             0                 2            0            0   \n",
       "2               2             2                 0            0            0   \n",
       "3               2             0                 2            2            0   \n",
       "4               0             0                 0            0            0   \n",
       "\n",
       "   StreamingMovies  Contract  PaperlessBilling  PaymentMethod  Churn  \n",
       "0                0         0                 1              2      0  \n",
       "1                0         1                 0              3      0  \n",
       "2                0         0                 1              3      1  \n",
       "3                0         1                 0              0      0  \n",
       "4                0         0                 1              2      1  "
      ]
     },
     "execution_count": 116,
     "metadata": {},
     "output_type": "execute_result"
    }
   ],
   "source": [
    "df_cat.head()"
   ]
  },
  {
   "cell_type": "code",
   "execution_count": 117,
   "metadata": {
    "executionInfo": {
     "elapsed": 9538,
     "status": "ok",
     "timestamp": 1617078876013,
     "user": {
      "displayName": "Chinmay Lakhote",
      "photoUrl": "",
      "userId": "17795201635606502836"
     },
     "user_tz": -330
    },
    "id": "tWP5pCOFLPOw"
   },
   "outputs": [],
   "source": [
    "#to join both numeric and categorical dataframe in new dataframe df_new\n",
    "df_new=pd.concat([df_num,df_cat],axis=1)"
   ]
  },
  {
   "cell_type": "code",
   "execution_count": 118,
   "metadata": {
    "colab": {
     "base_uri": "https://localhost:8080/",
     "height": 224
    },
    "executionInfo": {
     "elapsed": 10060,
     "status": "ok",
     "timestamp": 1617078876552,
     "user": {
      "displayName": "Chinmay Lakhote",
      "photoUrl": "",
      "userId": "17795201635606502836"
     },
     "user_tz": -330
    },
    "id": "hlKDPY2ULRy0",
    "outputId": "919494d1-61ea-4e78-c258-ea988213ff76"
   },
   "outputs": [
    {
     "data": {
      "text/html": [
       "<div>\n",
       "<style scoped>\n",
       "    .dataframe tbody tr th:only-of-type {\n",
       "        vertical-align: middle;\n",
       "    }\n",
       "\n",
       "    .dataframe tbody tr th {\n",
       "        vertical-align: top;\n",
       "    }\n",
       "\n",
       "    .dataframe thead th {\n",
       "        text-align: right;\n",
       "    }\n",
       "</style>\n",
       "<table border=\"1\" class=\"dataframe\">\n",
       "  <thead>\n",
       "    <tr style=\"text-align: right;\">\n",
       "      <th></th>\n",
       "      <th>SeniorCitizen</th>\n",
       "      <th>tenure</th>\n",
       "      <th>MonthlyCharges</th>\n",
       "      <th>TotalCharges</th>\n",
       "      <th>gender</th>\n",
       "      <th>Partner</th>\n",
       "      <th>Dependents</th>\n",
       "      <th>PhoneService</th>\n",
       "      <th>MultipleLines</th>\n",
       "      <th>InternetService</th>\n",
       "      <th>OnlineSecurity</th>\n",
       "      <th>OnlineBackup</th>\n",
       "      <th>DeviceProtection</th>\n",
       "      <th>TechSupport</th>\n",
       "      <th>StreamingTV</th>\n",
       "      <th>StreamingMovies</th>\n",
       "      <th>Contract</th>\n",
       "      <th>PaperlessBilling</th>\n",
       "      <th>PaymentMethod</th>\n",
       "      <th>Churn</th>\n",
       "    </tr>\n",
       "  </thead>\n",
       "  <tbody>\n",
       "    <tr>\n",
       "      <th>0</th>\n",
       "      <td>0</td>\n",
       "      <td>1</td>\n",
       "      <td>29.85</td>\n",
       "      <td>29.85</td>\n",
       "      <td>0</td>\n",
       "      <td>1</td>\n",
       "      <td>0</td>\n",
       "      <td>0</td>\n",
       "      <td>1</td>\n",
       "      <td>0</td>\n",
       "      <td>0</td>\n",
       "      <td>2</td>\n",
       "      <td>0</td>\n",
       "      <td>0</td>\n",
       "      <td>0</td>\n",
       "      <td>0</td>\n",
       "      <td>0</td>\n",
       "      <td>1</td>\n",
       "      <td>2</td>\n",
       "      <td>0</td>\n",
       "    </tr>\n",
       "    <tr>\n",
       "      <th>1</th>\n",
       "      <td>0</td>\n",
       "      <td>34</td>\n",
       "      <td>56.95</td>\n",
       "      <td>1889.50</td>\n",
       "      <td>1</td>\n",
       "      <td>0</td>\n",
       "      <td>0</td>\n",
       "      <td>1</td>\n",
       "      <td>0</td>\n",
       "      <td>0</td>\n",
       "      <td>2</td>\n",
       "      <td>0</td>\n",
       "      <td>2</td>\n",
       "      <td>0</td>\n",
       "      <td>0</td>\n",
       "      <td>0</td>\n",
       "      <td>1</td>\n",
       "      <td>0</td>\n",
       "      <td>3</td>\n",
       "      <td>0</td>\n",
       "    </tr>\n",
       "    <tr>\n",
       "      <th>2</th>\n",
       "      <td>0</td>\n",
       "      <td>2</td>\n",
       "      <td>53.85</td>\n",
       "      <td>108.15</td>\n",
       "      <td>1</td>\n",
       "      <td>0</td>\n",
       "      <td>0</td>\n",
       "      <td>1</td>\n",
       "      <td>0</td>\n",
       "      <td>0</td>\n",
       "      <td>2</td>\n",
       "      <td>2</td>\n",
       "      <td>0</td>\n",
       "      <td>0</td>\n",
       "      <td>0</td>\n",
       "      <td>0</td>\n",
       "      <td>0</td>\n",
       "      <td>1</td>\n",
       "      <td>3</td>\n",
       "      <td>1</td>\n",
       "    </tr>\n",
       "    <tr>\n",
       "      <th>3</th>\n",
       "      <td>0</td>\n",
       "      <td>45</td>\n",
       "      <td>42.30</td>\n",
       "      <td>1840.75</td>\n",
       "      <td>1</td>\n",
       "      <td>0</td>\n",
       "      <td>0</td>\n",
       "      <td>0</td>\n",
       "      <td>1</td>\n",
       "      <td>0</td>\n",
       "      <td>2</td>\n",
       "      <td>0</td>\n",
       "      <td>2</td>\n",
       "      <td>2</td>\n",
       "      <td>0</td>\n",
       "      <td>0</td>\n",
       "      <td>1</td>\n",
       "      <td>0</td>\n",
       "      <td>0</td>\n",
       "      <td>0</td>\n",
       "    </tr>\n",
       "    <tr>\n",
       "      <th>4</th>\n",
       "      <td>0</td>\n",
       "      <td>2</td>\n",
       "      <td>70.70</td>\n",
       "      <td>151.65</td>\n",
       "      <td>0</td>\n",
       "      <td>0</td>\n",
       "      <td>0</td>\n",
       "      <td>1</td>\n",
       "      <td>0</td>\n",
       "      <td>1</td>\n",
       "      <td>0</td>\n",
       "      <td>0</td>\n",
       "      <td>0</td>\n",
       "      <td>0</td>\n",
       "      <td>0</td>\n",
       "      <td>0</td>\n",
       "      <td>0</td>\n",
       "      <td>1</td>\n",
       "      <td>2</td>\n",
       "      <td>1</td>\n",
       "    </tr>\n",
       "  </tbody>\n",
       "</table>\n",
       "</div>"
      ],
      "text/plain": [
       "   SeniorCitizen  tenure  MonthlyCharges  TotalCharges  gender  Partner  \\\n",
       "0              0       1           29.85         29.85       0        1   \n",
       "1              0      34           56.95       1889.50       1        0   \n",
       "2              0       2           53.85        108.15       1        0   \n",
       "3              0      45           42.30       1840.75       1        0   \n",
       "4              0       2           70.70        151.65       0        0   \n",
       "\n",
       "   Dependents  PhoneService  MultipleLines  InternetService  OnlineSecurity  \\\n",
       "0           0             0              1                0               0   \n",
       "1           0             1              0                0               2   \n",
       "2           0             1              0                0               2   \n",
       "3           0             0              1                0               2   \n",
       "4           0             1              0                1               0   \n",
       "\n",
       "   OnlineBackup  DeviceProtection  TechSupport  StreamingTV  StreamingMovies  \\\n",
       "0             2                 0            0            0                0   \n",
       "1             0                 2            0            0                0   \n",
       "2             2                 0            0            0                0   \n",
       "3             0                 2            2            0                0   \n",
       "4             0                 0            0            0                0   \n",
       "\n",
       "   Contract  PaperlessBilling  PaymentMethod  Churn  \n",
       "0         0                 1              2      0  \n",
       "1         1                 0              3      0  \n",
       "2         0                 1              3      1  \n",
       "3         1                 0              0      0  \n",
       "4         0                 1              2      1  "
      ]
     },
     "execution_count": 118,
     "metadata": {},
     "output_type": "execute_result"
    }
   ],
   "source": [
    "df_new.head()"
   ]
  },
  {
   "cell_type": "code",
   "execution_count": 124,
   "metadata": {},
   "outputs": [
    {
     "data": {
      "text/plain": [
       "Text(29.040555555555557, 0.5, 'Count')"
      ]
     },
     "execution_count": 124,
     "metadata": {},
     "output_type": "execute_result"
    },
    {
     "data": {
      "text/plain": [
       "<Figure size 1080x576 with 0 Axes>"
      ]
     },
     "metadata": {},
     "output_type": "display_data"
    },
    {
     "data": {
      "image/png": "[encoded data removed]",
      "text/plain": [
       "<Figure size 412x360 with 1 Axes>"
      ]
     },
     "metadata": {
      "needs_background": "light"
     },
     "output_type": "display_data"
    }
   ],
   "source": [
    "plt.figure(figsize = (15,8))\n",
    "sns.catplot(data = df, x ='Contract', hue = 'Churn',\n",
    "           kind = 'count')\n",
    "plt.xlabel('Contract', fontsize = 12)\n",
    "plt.ylabel('Count', fontsize = 12)"
   ]
  },
  {
   "cell_type": "code",
   "execution_count": 125,
   "metadata": {},
   "outputs": [
    {
     "data": {
      "text/plain": [
       "Text(29.05861111111112, 0.5, 'Count')"
      ]
     },
     "execution_count": 125,
     "metadata": {},
     "output_type": "execute_result"
    },
    {
     "data": {
      "text/plain": [
       "<Figure size 1080x576 with 0 Axes>"
      ]
     },
     "metadata": {},
     "output_type": "display_data"
    },
    {
     "data": {
      "image/png": "[encoded data removed]",
      "text/plain": [
       "<Figure size 412x360 with 1 Axes>"
      ]
     },
     "metadata": {
      "needs_background": "light"
     },
     "output_type": "display_data"
    }
   ],
   "source": [
    "plt.figure(figsize = (15,8))\n",
    "sns.catplot(data = df, x ='InternetService', hue = 'Churn',\n",
    "           kind = 'count')\n",
    "plt.xlabel('InternetService', fontsize = 12)\n",
    "plt.ylabel('Count', fontsize = 12)"
   ]
  },
  {
   "cell_type": "code",
   "execution_count": 121,
   "metadata": {},
   "outputs": [
    {
     "data": {
      "text/plain": [
       "Text(29.05861111111112, 0.5, 'Count')"
      ]
     },
     "execution_count": 121,
     "metadata": {},
     "output_type": "execute_result"
    },
    {
     "data": {
      "text/plain": [
       "<Figure size 1080x576 with 0 Axes>"
      ]
     },
     "metadata": {},
     "output_type": "display_data"
    },
    {
     "data": {
      "image/png": "[encoded data removed]",
      "text/plain": [
       "<Figure size 412x360 with 1 Axes>"
      ]
     },
     "metadata": {
      "needs_background": "light"
     },
     "output_type": "display_data"
    }
   ],
   "source": [
    "plt.figure(figsize = (15,8))\n",
    "sns.catplot(data = df, x ='DeviceProtection', hue = 'Churn',\n",
    "           kind = 'count')\n",
    "plt.xlabel('DeviceProtection', fontsize = 12)\n",
    "plt.ylabel('Count', fontsize = 12)"
   ]
  },
  {
   "cell_type": "code",
   "execution_count": 99,
   "metadata": {},
   "outputs": [
    {
     "data": {
      "image/png": "[encoded data removed]",
      "text/plain": [
       "<Figure size 720x432 with 1 Axes>"
      ]
     },
     "metadata": {
      "needs_background": "light"
     },
     "output_type": "display_data"
    }
   ],
   "source": [
    "plt.figure(figsize = (10,6))\n",
    "sns.countplot(data = df, x = 'Churn')\n",
    "plt.show()"
   ]
  },
  {
   "cell_type": "code",
   "execution_count": 20,
   "metadata": {
    "executionInfo": {
     "elapsed": 10046,
     "status": "ok",
     "timestamp": 1617078876554,
     "user": {
      "displayName": "Chinmay Lakhote",
      "photoUrl": "",
      "userId": "17795201635606502836"
     },
     "user_tz": -330
    },
    "id": "TnWVsFB6LUFf"
   },
   "outputs": [],
   "source": [
    "#separate input features (independent variable)and output features(target)\n",
    "X=df_new.drop(\"Churn\",axis=1)\n",
    "Y=df_new[\"Churn\"]"
   ]
  },
  {
   "cell_type": "code",
   "execution_count": 21,
   "metadata": {
    "executionInfo": {
     "elapsed": 10040,
     "status": "ok",
     "timestamp": 1617078876557,
     "user": {
      "displayName": "Chinmay Lakhote",
      "photoUrl": "",
      "userId": "17795201635606502836"
     },
     "user_tz": -330
    },
    "id": "hLRF7EO7LX-P"
   },
   "outputs": [],
   "source": [
    "from sklearn.model_selection import train_test_split"
   ]
  },
  {
   "cell_type": "code",
   "execution_count": 22,
   "metadata": {
    "executionInfo": {
     "elapsed": 10033,
     "status": "ok",
     "timestamp": 1617078876559,
     "user": {
      "displayName": "Chinmay Lakhote",
      "photoUrl": "",
      "userId": "17795201635606502836"
     },
     "user_tz": -330
    },
    "id": "9HTRVPBwLctf"
   },
   "outputs": [],
   "source": [
    "X_train,X_test,Y_train,Y_test=train_test_split(X,Y,test_size=0.3,random_state=1)"
   ]
  },
  {
   "cell_type": "code",
   "execution_count": 23,
   "metadata": {
    "executionInfo": {
     "elapsed": 10028,
     "status": "ok",
     "timestamp": 1617078876564,
     "user": {
      "displayName": "Chinmay Lakhote",
      "photoUrl": "",
      "userId": "17795201635606502836"
     },
     "user_tz": -330
    },
    "id": "yVKSRpOiLg6-"
   },
   "outputs": [],
   "source": [
    "#caling apply on input data X_train and X_test \n",
    "#use StandardScaler class (formula z-score=X-mean(X)/std(X))\n",
    "from sklearn.preprocessing import StandardScaler"
   ]
  },
  {
   "cell_type": "code",
   "execution_count": 24,
   "metadata": {
    "executionInfo": {
     "elapsed": 10026,
     "status": "ok",
     "timestamp": 1617078876570,
     "user": {
      "displayName": "Chinmay Lakhote",
      "photoUrl": "",
      "userId": "17795201635606502836"
     },
     "user_tz": -330
    },
    "id": "Mb7Z5L1sMKhm"
   },
   "outputs": [],
   "source": [
    "#create object of StandardScaler class\n",
    "ss=StandardScaler()\n",
    "#scaling on training input data\n",
    "X_train=ss.fit_transform(X_train)\n",
    "X_test=ss.transform(X_test)"
   ]
  },
  {
   "cell_type": "code",
   "execution_count": 25,
   "metadata": {
    "colab": {
     "base_uri": "https://localhost:8080/"
    },
    "executionInfo": {
     "elapsed": 10014,
     "status": "ok",
     "timestamp": 1617078876572,
     "user": {
      "displayName": "Chinmay Lakhote",
      "photoUrl": "",
      "userId": "17795201635606502836"
     },
     "user_tz": -330
    },
    "id": "gKJbYRabXk6X",
    "outputId": "74b07338-7a40-4f66-d939-e6894d457204"
   },
   "outputs": [
    {
     "name": "stderr",
     "output_type": "stream",
     "text": [
      "/usr/local/lib/python3.7/dist-packages/sklearn/externals/six.py:31: FutureWarning: The module is deprecated in version 0.21 and will be removed in version 0.23 since we've dropped support for Python 2.7. Please rely on the official version of six (https://pypi.org/project/six/).\n",
      "  \"(https://pypi.org/project/six/).\", FutureWarning)\n",
      "/usr/local/lib/python3.7/dist-packages/sklearn/utils/deprecation.py:144: FutureWarning: The sklearn.neighbors.base module is  deprecated in version 0.22 and will be removed in version 0.24. The corresponding classes / functions should instead be imported from sklearn.neighbors. Anything that cannot be imported from sklearn.neighbors is now part of the private API.\n",
      "  warnings.warn(message, FutureWarning)\n"
     ]
    }
   ],
   "source": [
    "from imblearn.over_sampling import RandomOverSampler"
   ]
  },
  {
   "cell_type": "code",
   "execution_count": 26,
   "metadata": {
    "executionInfo": {
     "elapsed": 10000,
     "status": "ok",
     "timestamp": 1617078876573,
     "user": {
      "displayName": "Chinmay Lakhote",
      "photoUrl": "",
      "userId": "17795201635606502836"
     },
     "user_tz": -330
    },
    "id": "L0006LQUXvHY"
   },
   "outputs": [],
   "source": [
    "#create object of  RandomOverSampler() class\n",
    "ros = RandomOverSampler()"
   ]
  },
  {
   "cell_type": "code",
   "execution_count": 27,
   "metadata": {
    "colab": {
     "base_uri": "https://localhost:8080/"
    },
    "executionInfo": {
     "elapsed": 9988,
     "status": "ok",
     "timestamp": 1617078876574,
     "user": {
      "displayName": "Chinmay Lakhote",
      "photoUrl": "",
      "userId": "17795201635606502836"
     },
     "user_tz": -330
    },
    "id": "XrAdR3yOX9PQ",
    "outputId": "0c986f84-1cce-421e-a842-d3eb8dc0100c"
   },
   "outputs": [
    {
     "data": {
      "text/plain": [
       "0    3589\n",
       "1    1341\n",
       "Name: Churn, dtype: int64"
      ]
     },
     "execution_count": 27,
     "metadata": {
      "tags": []
     },
     "output_type": "execute_result"
    }
   ],
   "source": [
    "pd.Series(Y_train).value_counts() #not apply Over sampler"
   ]
  },
  {
   "cell_type": "code",
   "execution_count": 28,
   "metadata": {
    "colab": {
     "base_uri": "https://localhost:8080/"
    },
    "executionInfo": {
     "elapsed": 9977,
     "status": "ok",
     "timestamp": 1617078876580,
     "user": {
      "displayName": "Chinmay Lakhote",
      "photoUrl": "",
      "userId": "17795201635606502836"
     },
     "user_tz": -330
    },
    "id": "v4slDcDMYUtQ",
    "outputId": "d20a479a-4615-49cd-a2b1-bba7405779ec"
   },
   "outputs": [
    {
     "name": "stderr",
     "output_type": "stream",
     "text": [
      "/usr/local/lib/python3.7/dist-packages/sklearn/utils/deprecation.py:87: FutureWarning: Function safe_indexing is deprecated; safe_indexing is deprecated in version 0.22 and will be removed in version 0.24.\n",
      "  warnings.warn(msg, category=FutureWarning)\n"
     ]
    }
   ],
   "source": [
    "X_sample1,Y_sample1 = ros.fit_sample(X_train,Y_train) "
   ]
  },
  {
   "cell_type": "code",
   "execution_count": 29,
   "metadata": {
    "colab": {
     "base_uri": "https://localhost:8080/"
    },
    "executionInfo": {
     "elapsed": 9961,
     "status": "ok",
     "timestamp": 1617078876583,
     "user": {
      "displayName": "Chinmay Lakhote",
      "photoUrl": "",
      "userId": "17795201635606502836"
     },
     "user_tz": -330
    },
    "id": "NSHFpdUJYh94",
    "outputId": "ae02ad74-a450-4b2c-8d3f-d7c8d895b8b4"
   },
   "outputs": [
    {
     "data": {
      "text/plain": [
       "1    3589\n",
       "0    3589\n",
       "dtype: int64"
      ]
     },
     "execution_count": 29,
     "metadata": {
      "tags": []
     },
     "output_type": "execute_result"
    }
   ],
   "source": [
    "pd.Series(Y_sample1).value_counts()"
   ]
  },
  {
   "cell_type": "code",
   "execution_count": 30,
   "metadata": {
    "colab": {
     "base_uri": "https://localhost:8080/"
    },
    "executionInfo": {
     "elapsed": 9939,
     "status": "ok",
     "timestamp": 1617078876584,
     "user": {
      "displayName": "Chinmay Lakhote",
      "photoUrl": "",
      "userId": "17795201635606502836"
     },
     "user_tz": -330
    },
    "id": "pyNyeIGtYog5",
    "outputId": "d5df10c4-0838-4e3c-80b7-b5b0fea5746f"
   },
   "outputs": [
    {
     "data": {
      "text/plain": [
       "0    1585\n",
       "1     528\n",
       "Name: Churn, dtype: int64"
      ]
     },
     "execution_count": 30,
     "metadata": {
      "tags": []
     },
     "output_type": "execute_result"
    }
   ],
   "source": [
    "pd.Series(Y_test).value_counts() #before over sampler"
   ]
  },
  {
   "cell_type": "code",
   "execution_count": 31,
   "metadata": {
    "colab": {
     "base_uri": "https://localhost:8080/"
    },
    "executionInfo": {
     "elapsed": 9923,
     "status": "ok",
     "timestamp": 1617078876585,
     "user": {
      "displayName": "Chinmay Lakhote",
      "photoUrl": "",
      "userId": "17795201635606502836"
     },
     "user_tz": -330
    },
    "id": "bewuzCo3Yv0T",
    "outputId": "83834070-1b08-4db7-de62-dc3f4b551f25"
   },
   "outputs": [
    {
     "name": "stderr",
     "output_type": "stream",
     "text": [
      "/usr/local/lib/python3.7/dist-packages/sklearn/utils/deprecation.py:87: FutureWarning: Function safe_indexing is deprecated; safe_indexing is deprecated in version 0.22 and will be removed in version 0.24.\n",
      "  warnings.warn(msg, category=FutureWarning)\n"
     ]
    }
   ],
   "source": [
    "\n",
    "#applying over_sampler technique\n",
    "X_sample_test,Y_sample_test = ros.fit_sample(X_test,Y_test) "
   ]
  },
  {
   "cell_type": "code",
   "execution_count": 32,
   "metadata": {
    "colab": {
     "base_uri": "https://localhost:8080/"
    },
    "executionInfo": {
     "elapsed": 9905,
     "status": "ok",
     "timestamp": 1617078876586,
     "user": {
      "displayName": "Chinmay Lakhote",
      "photoUrl": "",
      "userId": "17795201635606502836"
     },
     "user_tz": -330
    },
    "id": "L0nu4mtmZBxM",
    "outputId": "19dd48c6-a308-4d6b-dff1-b36bda29fe4e"
   },
   "outputs": [
    {
     "data": {
      "text/plain": [
       "1    1585\n",
       "0    1585\n",
       "dtype: int64"
      ]
     },
     "execution_count": 32,
     "metadata": {
      "tags": []
     },
     "output_type": "execute_result"
    }
   ],
   "source": [
    "pd.Series(Y_sample_test).value_counts()"
   ]
  },
  {
   "cell_type": "code",
   "execution_count": 69,
   "metadata": {
    "executionInfo": {
     "elapsed": 9893,
     "status": "ok",
     "timestamp": 1617078876587,
     "user": {
      "displayName": "Chinmay Lakhote",
      "photoUrl": "",
      "userId": "17795201635606502836"
     },
     "user_tz": -330
    },
    "id": "0ZoytImkMNWg"
   },
   "outputs": [],
   "source": [
    "model=tf.keras.Sequential([\n",
    "      tf.keras.layers.Dense(19,activation='relu',input_shape=(X.shape[1],)), #hidden layer1\n",
    "      tf.keras.layers.Dense(19,activation='relu'), #hidden layes2\n",
    "      tf.keras.layers.Dense(1,activation='sigmoid') #output layer\n",
    "])"
   ]
  },
  {
   "cell_type": "code",
   "execution_count": 70,
   "metadata": {
    "colab": {
     "base_uri": "https://localhost:8080/"
    },
    "executionInfo": {
     "elapsed": 9881,
     "status": "ok",
     "timestamp": 1617078876588,
     "user": {
      "displayName": "Chinmay Lakhote",
      "photoUrl": "",
      "userId": "17795201635606502836"
     },
     "user_tz": -330
    },
    "id": "CF2pHNSyMZIf",
    "outputId": "d2758c57-c142-45e1-b6e3-e402e52dbeb8"
   },
   "outputs": [
    {
     "data": {
      "text/plain": [
       "19"
      ]
     },
     "execution_count": 70,
     "metadata": {},
     "output_type": "execute_result"
    }
   ],
   "source": [
    "X.shape[1]"
   ]
  },
  {
   "cell_type": "code",
   "execution_count": 71,
   "metadata": {
    "executionInfo": {
     "elapsed": 9851,
     "status": "ok",
     "timestamp": 1617078876590,
     "user": {
      "displayName": "Chinmay Lakhote",
      "photoUrl": "",
      "userId": "17795201635606502836"
     },
     "user_tz": -330
    },
    "id": "N8ijFrv7MqxA"
   },
   "outputs": [],
   "source": [
    "#compile the model\n",
    "model.compile(optimizer='sgd',loss='binary_crossentropy',metrics=['accuracy'])"
   ]
  },
  {
   "cell_type": "code",
   "execution_count": 73,
   "metadata": {
    "colab": {
     "base_uri": "https://localhost:8080/"
    },
    "executionInfo": {
     "elapsed": 22867,
     "status": "ok",
     "timestamp": 1617078889619,
     "user": {
      "displayName": "Chinmay Lakhote",
      "photoUrl": "",
      "userId": "17795201635606502836"
     },
     "user_tz": -330
    },
    "id": "g94G9TCgMwdF",
    "outputId": "940d538f-fb84-4c27-9738-6fbd796cda71"
   },
   "outputs": [
    {
     "name": "stdout",
     "output_type": "stream",
     "text": [
      "Epoch 1/50\n",
      "155/155 [==============================] - 1s 1ms/step - loss: 0.5711 - accuracy: 0.7016\n",
      "Epoch 2/50\n",
      "155/155 [==============================] - 0s 1ms/step - loss: 0.5078 - accuracy: 0.7306\n",
      "Epoch 3/50\n",
      "155/155 [==============================] - 0s 1ms/step - loss: 0.4837 - accuracy: 0.7452\n",
      "Epoch 4/50\n",
      "155/155 [==============================] - 0s 1ms/step - loss: 0.4704 - accuracy: 0.7623\n",
      "Epoch 5/50\n",
      "155/155 [==============================] - 0s 1ms/step - loss: 0.4623 - accuracy: 0.7702\n",
      "Epoch 6/50\n",
      "155/155 [==============================] - 0s 1ms/step - loss: 0.4570 - accuracy: 0.7753\n",
      "Epoch 7/50\n",
      "155/155 [==============================] - 0s 1ms/step - loss: 0.4534 - accuracy: 0.7801\n",
      "Epoch 8/50\n",
      "155/155 [==============================] - 0s 2ms/step - loss: 0.4509 - accuracy: 0.7824\n",
      "Epoch 9/50\n",
      "155/155 [==============================] - 0s 1ms/step - loss: 0.4485 - accuracy: 0.7822\n",
      "Epoch 10/50\n",
      "155/155 [==============================] - 0s 2ms/step - loss: 0.4465 - accuracy: 0.7819\n",
      "Epoch 11/50\n",
      "155/155 [==============================] - 0s 1ms/step - loss: 0.4446 - accuracy: 0.7834\n",
      "Epoch 12/50\n",
      "155/155 [==============================] - 0s 1ms/step - loss: 0.4429 - accuracy: 0.7850\n",
      "Epoch 13/50\n",
      "155/155 [==============================] - 0s 1ms/step - loss: 0.4414 - accuracy: 0.7862\n",
      "Epoch 14/50\n",
      "155/155 [==============================] - 0s 1ms/step - loss: 0.4401 - accuracy: 0.7878\n",
      "Epoch 15/50\n",
      "155/155 [==============================] - 0s 1ms/step - loss: 0.4390 - accuracy: 0.7886\n",
      "Epoch 16/50\n",
      "155/155 [==============================] - 0s 1ms/step - loss: 0.4378 - accuracy: 0.7888\n",
      "Epoch 17/50\n",
      "155/155 [==============================] - 0s 2ms/step - loss: 0.4366 - accuracy: 0.7886\n",
      "Epoch 18/50\n",
      "155/155 [==============================] - 0s 1ms/step - loss: 0.4355 - accuracy: 0.7888\n",
      "Epoch 19/50\n",
      "155/155 [==============================] - 0s 1ms/step - loss: 0.4346 - accuracy: 0.7888\n",
      "Epoch 20/50\n",
      "155/155 [==============================] - 0s 1ms/step - loss: 0.4336 - accuracy: 0.7880\n",
      "Epoch 21/50\n",
      "155/155 [==============================] - 0s 1ms/step - loss: 0.4327 - accuracy: 0.7876\n",
      "Epoch 22/50\n",
      "155/155 [==============================] - 0s 2ms/step - loss: 0.4320 - accuracy: 0.7890\n",
      "Epoch 23/50\n",
      "155/155 [==============================] - 0s 1ms/step - loss: 0.4312 - accuracy: 0.7919\n",
      "Epoch 24/50\n",
      "155/155 [==============================] - 0s 1ms/step - loss: 0.4305 - accuracy: 0.7929\n",
      "Epoch 25/50\n",
      "155/155 [==============================] - 0s 2ms/step - loss: 0.4298 - accuracy: 0.7907\n",
      "Epoch 26/50\n",
      "155/155 [==============================] - 0s 1ms/step - loss: 0.4292 - accuracy: 0.7913\n",
      "Epoch 27/50\n",
      "155/155 [==============================] - 0s 1ms/step - loss: 0.4286 - accuracy: 0.7925\n",
      "Epoch 28/50\n",
      "155/155 [==============================] - 0s 1ms/step - loss: 0.4279 - accuracy: 0.7925\n",
      "Epoch 29/50\n",
      "155/155 [==============================] - 0s 2ms/step - loss: 0.4274 - accuracy: 0.7945: 0s - loss: 0.4271 - accuracy\n",
      "Epoch 30/50\n",
      "155/155 [==============================] - 0s 1ms/step - loss: 0.4269 - accuracy: 0.7943\n",
      "Epoch 31/50\n",
      "155/155 [==============================] - 0s 1ms/step - loss: 0.4264 - accuracy: 0.7941\n",
      "Epoch 32/50\n",
      "155/155 [==============================] - 0s 1ms/step - loss: 0.4259 - accuracy: 0.7959\n",
      "Epoch 33/50\n",
      "155/155 [==============================] - 0s 2ms/step - loss: 0.4255 - accuracy: 0.7955\n",
      "Epoch 34/50\n",
      "155/155 [==============================] - 0s 1ms/step - loss: 0.4250 - accuracy: 0.7957\n",
      "Epoch 35/50\n",
      "155/155 [==============================] - 0s 1ms/step - loss: 0.4245 - accuracy: 0.7963\n",
      "Epoch 36/50\n",
      "155/155 [==============================] - 0s 1ms/step - loss: 0.4243 - accuracy: 0.7959\n",
      "Epoch 37/50\n",
      "155/155 [==============================] - 0s 2ms/step - loss: 0.4237 - accuracy: 0.7978\n",
      "Epoch 38/50\n",
      "155/155 [==============================] - 0s 1ms/step - loss: 0.4232 - accuracy: 0.7970\n",
      "Epoch 39/50\n",
      "155/155 [==============================] - 0s 1ms/step - loss: 0.4230 - accuracy: 0.7968\n",
      "Epoch 40/50\n",
      "155/155 [==============================] - 0s 1ms/step - loss: 0.4223 - accuracy: 0.7974\n",
      "Epoch 41/50\n",
      "155/155 [==============================] - 0s 1ms/step - loss: 0.4222 - accuracy: 0.7976\n",
      "Epoch 42/50\n",
      "155/155 [==============================] - 0s 1ms/step - loss: 0.4218 - accuracy: 0.7974\n",
      "Epoch 43/50\n",
      "155/155 [==============================] - 0s 2ms/step - loss: 0.4214 - accuracy: 0.7976\n",
      "Epoch 44/50\n",
      "155/155 [==============================] - 0s 1ms/step - loss: 0.4210 - accuracy: 0.7978\n",
      "Epoch 45/50\n",
      "155/155 [==============================] - 0s 1ms/step - loss: 0.4206 - accuracy: 0.7992\n",
      "Epoch 46/50\n",
      "155/155 [==============================] - 0s 1ms/step - loss: 0.4204 - accuracy: 0.8012\n",
      "Epoch 47/50\n",
      "155/155 [==============================] - 0s 1ms/step - loss: 0.4202 - accuracy: 0.7984\n",
      "Epoch 48/50\n",
      "155/155 [==============================] - 0s 1ms/step - loss: 0.4199 - accuracy: 0.7972\n",
      "Epoch 49/50\n",
      "155/155 [==============================] - 0s 2ms/step - loss: 0.4197 - accuracy: 0.7992\n",
      "Epoch 50/50\n",
      "155/155 [==============================] - 0s 1ms/step - loss: 0.4194 - accuracy: 0.7996\n"
     ]
    }
   ],
   "source": [
    "#train the model\n",
    "trained_model=model.fit(X_train,Y_train,epochs=50)"
   ]
  },
  {
   "cell_type": "code",
   "execution_count": 74,
   "metadata": {
    "executionInfo": {
     "elapsed": 22855,
     "status": "ok",
     "timestamp": 1617078889620,
     "user": {
      "displayName": "Chinmay Lakhote",
      "photoUrl": "",
      "userId": "17795201635606502836"
     },
     "user_tz": -330
    },
    "id": "GObNtvcbM1FF"
   },
   "outputs": [],
   "source": [
    "#predict means testing the model use inbuilt method predict()\n",
    "Y_pred=model.predict(X_test)"
   ]
  },
  {
   "cell_type": "code",
   "execution_count": 75,
   "metadata": {
    "colab": {
     "base_uri": "https://localhost:8080/"
    },
    "executionInfo": {
     "elapsed": 22844,
     "status": "ok",
     "timestamp": 1617078889621,
     "user": {
      "displayName": "Chinmay Lakhote",
      "photoUrl": "",
      "userId": "17795201635606502836"
     },
     "user_tz": -330
    },
    "id": "5-wIrjs2NIoD",
    "outputId": "82780ffe-655e-4159-ce3a-b9e4a76b359f"
   },
   "outputs": [
    {
     "data": {
      "text/plain": [
       "array([[0.14317453],\n",
       "       [0.11479515],\n",
       "       [0.3090665 ],\n",
       "       ...,\n",
       "       [0.5274391 ],\n",
       "       [0.05225921],\n",
       "       [0.01984298]], dtype=float32)"
      ]
     },
     "execution_count": 75,
     "metadata": {},
     "output_type": "execute_result"
    }
   ],
   "source": [
    "Y_pred"
   ]
  },
  {
   "cell_type": "code",
   "execution_count": 76,
   "metadata": {
    "executionInfo": {
     "elapsed": 22831,
     "status": "ok",
     "timestamp": 1617078889622,
     "user": {
      "displayName": "Chinmay Lakhote",
      "photoUrl": "",
      "userId": "17795201635606502836"
     },
     "user_tz": -330
    },
    "id": "-N2m8aBDNMcA"
   },
   "outputs": [],
   "source": [
    "Y_pred=np.where(Y_pred>=0.5,1,0)"
   ]
  },
  {
   "cell_type": "code",
   "execution_count": 77,
   "metadata": {
    "executionInfo": {
     "elapsed": 22823,
     "status": "ok",
     "timestamp": 1617078889623,
     "user": {
      "displayName": "Chinmay Lakhote",
      "photoUrl": "",
      "userId": "17795201635606502836"
     },
     "user_tz": -330
    },
    "id": "9O-L5o9BNS3m"
   },
   "outputs": [],
   "source": [
    "#Evaluation of model using clasification_report inbuilt class\n",
    "from sklearn.metrics import classification_report"
   ]
  },
  {
   "cell_type": "code",
   "execution_count": 79,
   "metadata": {
    "colab": {
     "base_uri": "https://localhost:8080/"
    },
    "executionInfo": {
     "elapsed": 22811,
     "status": "ok",
     "timestamp": 1617078889624,
     "user": {
      "displayName": "Chinmay Lakhote",
      "photoUrl": "",
      "userId": "17795201635606502836"
     },
     "user_tz": -330
    },
    "id": "XDwiL6SsNWHv",
    "outputId": "d89a33a6-7f0c-4655-a584-6dd95cd7b43f"
   },
   "outputs": [
    {
     "name": "stdout",
     "output_type": "stream",
     "text": [
      "              precision    recall  f1-score   support\n",
      "\n",
      "           0       0.86      0.89      0.87      1585\n",
      "           1       0.62      0.55      0.58       528\n",
      "\n",
      "    accuracy                           0.80      2113\n",
      "   macro avg       0.74      0.72      0.73      2113\n",
      "weighted avg       0.80      0.80      0.80      2113\n",
      "\n"
     ]
    }
   ],
   "source": [
    "print(classification_report(Y_test,Y_pred))"
   ]
  }
 ],
 "metadata": {
  "colab": {
   "authorship_tag": "ABX9TyM5XIw5bQbFqu2tiQJYXQ/o",
   "collapsed_sections": [],
   "mount_file_id": "1eeXv8i1PzYDhzDlewnaAQCSUgBNFMZvt",
   "name": "DL-Project.ipynb",
   "provenance": []
  },
  "kernelspec": {
   "display_name": "Python 3 (ipykernel)",
   "language": "python",
   "name": "python3"
  },
  "language_info": {
   "codemirror_mode": {
    "name": "ipython",
    "version": 3
   },
   "file_extension": ".py",
   "mimetype": "text/x-python",
   "name": "python",
   "nbconvert_exporter": "python",
   "pygments_lexer": "ipython3",
   "version": "3.9.5"
  }
 },
 "nbformat": 4,
 "nbformat_minor": 1
}
